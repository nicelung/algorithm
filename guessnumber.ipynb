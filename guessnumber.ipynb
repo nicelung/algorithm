{
  "nbformat": 4,
  "nbformat_minor": 0,
  "metadata": {
    "colab": {
      "name": "guessnumber.ipynb",
      "provenance": [],
      "authorship_tag": "ABX9TyNbng69eyMAngGioH8fg7ro",
      "include_colab_link": true
    },
    "kernelspec": {
      "name": "python3",
      "display_name": "Python 3"
    }
  },
  "cells": [
    {
      "cell_type": "markdown",
      "metadata": {
        "id": "view-in-github",
        "colab_type": "text"
      },
      "source": [
        "<a href=\"https://colab.research.google.com/github/nicelung/algorithm/blob/master/guessnumber.ipynb\" target=\"_parent\"><img src=\"https://colab.research.google.com/assets/colab-badge.svg\" alt=\"Open In Colab\"/></a>"
      ]
    },
    {
      "cell_type": "markdown",
      "metadata": {
        "id": "9V8XZy2SEbsO"
      },
      "source": [
        "猜數字"
      ]
    },
    {
      "cell_type": "code",
      "metadata": {
        "id": "4ylD8_YR-X_Z",
        "outputId": "1964b9f4-8f2e-4f38-9795-0103d8d96ce5",
        "colab": {
          "base_uri": "https://localhost:8080/"
        }
      },
      "source": [
        "import random\n",
        "\n",
        "guessesTaken = 0\n",
        "low =1\n",
        "high =100\n",
        "\n",
        "print('嗨! 你叫什麼名字?')\n",
        "myName = input()\n",
        "\n",
        "number = random.randint(low, high)\n",
        "print( myName + ', 請在1~100之間猜一個數字')\n",
        "\n",
        "while True:\n",
        "    print('Take a guess.')\n",
        "    guess = input()\n",
        "    guess = int(guess)\n",
        "    guessesTaken+=1\n",
        "\n",
        "    if guess < number:\n",
        "      low=guess\n",
        "      print(\"你猜得太小囉! 密碼介於\" + str(low) + \"~\" + str(high) + \"之間\")\n",
        "\n",
        "    if guess > number:\n",
        "      high=guess\n",
        "      print('你猜得太大囉! 密碼介於' + str(low) + \"~\" + str(high) + \"之間\")\n",
        "\n",
        "    if guess == number:\n",
        "        break\n",
        "\n",
        "if guess == number:\n",
        "    guessesTaken = str(guessesTaken)\n",
        "    print('讚喔, ' + myName + '! 你在第 ' + guessesTaken + ' 次猜對了!')\n"
      ],
      "execution_count": 27,
      "outputs": [
        {
          "output_type": "stream",
          "text": [
            "嗨! 你叫什麼名字?\n",
            "yeahhhhhhhh\n",
            "yeahhhhhhhh, 請在1~100之間猜一個數字\n",
            "Take a guess.\n",
            "20\n",
            "你猜得太大囉! 密碼介於1~20之間\n",
            "Take a guess.\n",
            "14\n",
            "你猜得太大囉! 密碼介於1~14之間\n",
            "Take a guess.\n",
            "5\n",
            "你猜得太小囉! 密碼介於5~14之間\n",
            "Take a guess.\n",
            "9\n",
            "你猜得太小囉! 密碼介於9~14之間\n",
            "Take a guess.\n",
            "13\n",
            "你猜得太大囉! 密碼介於9~13之間\n",
            "Take a guess.\n",
            "11\n",
            "你猜得太大囉! 密碼介於9~11之間\n",
            "Take a guess.\n",
            "10\n",
            "讚喔, yeahhhhhhhh! 你在第 7 次猜對了!\n"
          ],
          "name": "stdout"
        }
      ]
    }
  ]
}