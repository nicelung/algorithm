{
  "nbformat": 4,
  "nbformat_minor": 0,
  "metadata": {
    "colab": {
      "name": "1209.ipynb",
      "provenance": [],
      "authorship_tag": "ABX9TyMd4sk3E9GqltaFxULIu1NK",
      "include_colab_link": true
    },
    "kernelspec": {
      "name": "python3",
      "display_name": "Python 3"
    }
  },
  "cells": [
    {
      "cell_type": "markdown",
      "metadata": {
        "id": "view-in-github",
        "colab_type": "text"
      },
      "source": [
        "<a href=\"https://colab.research.google.com/github/nicelung/algorithm/blob/master/1209.ipynb\" target=\"_parent\"><img src=\"https://colab.research.google.com/assets/colab-badge.svg\" alt=\"Open In Colab\"/></a>"
      ]
    },
    {
      "cell_type": "markdown",
      "metadata": {
        "id": "-xeyDStRWzOn"
      },
      "source": [
        "鐵條切割問題"
      ]
    },
    {
      "cell_type": "code",
      "metadata": {
        "colab": {
          "base_uri": "https://localhost:8080/"
        },
        "id": "y-pKaUMdWtIf",
        "outputId": "d0022c19-c0a2-4b75-ea79-729acb03daf2"
      },
      "source": [
        "def BottomUpCutRod(p, n):\r\n",
        "    r = [0]*(n+1)\r\n",
        "    for i in range(1, n+1):\r\n",
        "        if n == 0:\r\n",
        "            return 0\r\n",
        "        q =0\r\n",
        "        for j in range(1, i+1):\r\n",
        "            p.append(0)\r\n",
        "            q = max(q, p[j]+r[i-j])\r\n",
        "            r[i] = q\r\n",
        "    return r[n],r\r\n",
        "p=[0,1,5,8,9,10,17,17,20,24,30]\r\n",
        "sum=int(input(\"輸入:\"))\r\n",
        "print(BottomUpCutRod(p, sum))   #  (30, [0, 1, 5, 8, 10, 13, 17, 18, 22, 25, 30])\r\n",
        "\r\n"
      ],
      "execution_count": 29,
      "outputs": [
        {
          "output_type": "stream",
          "text": [
            "輸入:7\n",
            "(18, [0, 1, 5, 8, 10, 13, 17, 18])\n"
          ],
          "name": "stdout"
        }
      ]
    }
  ]
}