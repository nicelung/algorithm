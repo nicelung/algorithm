{
  "nbformat": 4,
  "nbformat_minor": 0,
  "metadata": {
    "colab": {
      "name": "10/5insertionsort.ipynb",
      "provenance": [],
      "collapsed_sections": [],
      "include_colab_link": true
    },
    "kernelspec": {
      "name": "python3",
      "display_name": "Python 3"
    }
  },
  "cells": [
    {
      "cell_type": "markdown",
      "metadata": {
        "id": "view-in-github",
        "colab_type": "text"
      },
      "source": [
        "<a href=\"https://colab.research.google.com/github/nicelung/algorithm/blob/master/10_5insertionsort.ipynb\" target=\"_parent\"><img src=\"https://colab.research.google.com/assets/colab-badge.svg\" alt=\"Open In Colab\"/></a>"
      ]
    },
    {
      "cell_type": "markdown",
      "metadata": {
        "id": "j95w6SLwOC0z"
      },
      "source": [
        "Insertion sort (插入排序)"
      ]
    },
    {
      "cell_type": "code",
      "metadata": {
        "id": "BxBaYEwzNj_v",
        "outputId": "daefd38b-2e80-4347-e7ef-5b5e9ecc1479",
        "colab": {
          "base_uri": "https://localhost:8080/",
          "height": 306
        }
      },
      "source": [
        "\n",
        "def Insertion_Sort(datas):\n",
        "    for i in range(1, len(datas)):      # n-1\n",
        "        for j in range(i):         #{[(n-1)+1]*(n-1)}/2 =(n^2-n)/2= 120\n",
        "            current = datas[i]     #120\n",
        "            if current < datas[j]:   #120\n",
        "                for k in range(i,j):\n",
        "                  print(datas)\n",
        "    return datas\n",
        "\n",
        "\n",
        "def insertionSort(arr):\n",
        "    for i in range(len(arr)):   #n\n",
        "        preIndex = i-1     #n\n",
        "        current = arr[i]    #n\n",
        "        while preIndex >= 0 and arr[preIndex] > current:   #n\n",
        "            arr[preIndex+1] = arr[preIndex]          #取決於while條件成立幾次\n",
        "            preIndex-=1                     #同上\n",
        "        arr[preIndex+1] = current                 #n\n",
        "        print(arr)                         #n\n",
        "    return arr\n",
        "\n",
        "if __name__ == '__main__':\n",
        "    import random\n",
        "    a = list(range(16))\n",
        "    random.shuffle(a)\n",
        "    b = a.copy()\n",
        "\n",
        "    arr = insertionSort(a)\n",
        "    print('---'*16)\n",
        "    Insertion_Sort(b)"
      ],
      "execution_count": null,
      "outputs": [
        {
          "output_type": "stream",
          "text": [
            "[5, 15, 13, 10, 11, 2, 14, 0, 9, 6, 1, 3, 12, 7, 8, 4]\n",
            "[5, 15, 13, 10, 11, 2, 14, 0, 9, 6, 1, 3, 12, 7, 8, 4]\n",
            "[5, 13, 15, 10, 11, 2, 14, 0, 9, 6, 1, 3, 12, 7, 8, 4]\n",
            "[5, 10, 13, 15, 11, 2, 14, 0, 9, 6, 1, 3, 12, 7, 8, 4]\n",
            "[5, 10, 11, 13, 15, 2, 14, 0, 9, 6, 1, 3, 12, 7, 8, 4]\n",
            "[2, 5, 10, 11, 13, 15, 14, 0, 9, 6, 1, 3, 12, 7, 8, 4]\n",
            "[2, 5, 10, 11, 13, 14, 15, 0, 9, 6, 1, 3, 12, 7, 8, 4]\n",
            "[0, 2, 5, 10, 11, 13, 14, 15, 9, 6, 1, 3, 12, 7, 8, 4]\n",
            "[0, 2, 5, 9, 10, 11, 13, 14, 15, 6, 1, 3, 12, 7, 8, 4]\n",
            "[0, 2, 5, 6, 9, 10, 11, 13, 14, 15, 1, 3, 12, 7, 8, 4]\n",
            "[0, 1, 2, 5, 6, 9, 10, 11, 13, 14, 15, 3, 12, 7, 8, 4]\n",
            "[0, 1, 2, 3, 5, 6, 9, 10, 11, 13, 14, 15, 12, 7, 8, 4]\n",
            "[0, 1, 2, 3, 5, 6, 9, 10, 11, 12, 13, 14, 15, 7, 8, 4]\n",
            "[0, 1, 2, 3, 5, 6, 7, 9, 10, 11, 12, 13, 14, 15, 8, 4]\n",
            "[0, 1, 2, 3, 5, 6, 7, 8, 9, 10, 11, 12, 13, 14, 15, 4]\n",
            "[0, 1, 2, 3, 4, 5, 6, 7, 8, 9, 10, 11, 12, 13, 14, 15]\n",
            "------------------------------------------------\n"
          ],
          "name": "stdout"
        }
      ]
    }
  ]
}