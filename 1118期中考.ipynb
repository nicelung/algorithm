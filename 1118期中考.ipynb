{
  "nbformat": 4,
  "nbformat_minor": 0,
  "metadata": {
    "colab": {
      "name": "1118期中考.ipynb",
      "provenance": [],
      "authorship_tag": "ABX9TyP3RkbtL9/aoezdccwTF/9O",
      "include_colab_link": true
    },
    "kernelspec": {
      "name": "python3",
      "display_name": "Python 3"
    }
  },
  "cells": [
    {
      "cell_type": "markdown",
      "metadata": {
        "id": "view-in-github",
        "colab_type": "text"
      },
      "source": [
        "<a href=\"https://colab.research.google.com/github/nicelung/algorithm/blob/master/1118%E6%9C%9F%E4%B8%AD%E8%80%83.ipynb\" target=\"_parent\"><img src=\"https://colab.research.google.com/assets/colab-badge.svg\" alt=\"Open In Colab\"/></a>"
      ]
    },
    {
      "cell_type": "markdown",
      "metadata": {
        "id": "-SiujtF6kPPN"
      },
      "source": [
        "插入排序法"
      ]
    },
    {
      "cell_type": "code",
      "metadata": {
        "colab": {
          "base_uri": "https://localhost:8080/"
        },
        "id": "Zh0jH_KAj4tL",
        "outputId": "756fa1a0-d79d-479c-f10f-9b5481c3031a"
      },
      "source": [
        "def insertionSort(arr):\n",
        "    for i in range(len(arr)):   \n",
        "        preIndex = i-1     \n",
        "        current = arr[i]    \n",
        "        while preIndex >= 0 and arr[preIndex] > current:\n",
        "            arr[preIndex+1] = arr[preIndex]\n",
        "            preIndex-=1                     \n",
        "        arr[preIndex+1] = current                 \n",
        "        print(\"第%d次排序:\"%i,arr)                         \n",
        "    return arr\n",
        "\n",
        "if __name__ == '__main__':\n",
        "    import random\n",
        "    a =[]\n",
        "    for t in range(8):\n",
        "      a.append(random.randint(0,100))\n",
        "\n",
        "    random.shuffle(a)\n",
        "    print(\"原始數列:\",a)\n",
        "    print('---'*26)\n",
        "\n",
        "    arr = insertionSort(a)\n",
        "    print('---'*26)\n"
      ],
      "execution_count": 22,
      "outputs": [
        {
          "output_type": "stream",
          "text": [
            "原始數列: [93, 32, 37, 3, 17, 70, 34, 9]\n",
            "------------------------------------------------------------------------------\n",
            "第0次排序: [93, 32, 37, 3, 17, 70, 34, 9]\n",
            "第1次排序: [32, 93, 37, 3, 17, 70, 34, 9]\n",
            "第2次排序: [32, 37, 93, 3, 17, 70, 34, 9]\n",
            "第3次排序: [3, 32, 37, 93, 17, 70, 34, 9]\n",
            "第4次排序: [3, 17, 32, 37, 93, 70, 34, 9]\n",
            "第5次排序: [3, 17, 32, 37, 70, 93, 34, 9]\n",
            "第6次排序: [3, 17, 32, 34, 37, 70, 93, 9]\n",
            "第7次排序: [3, 9, 17, 32, 34, 37, 70, 93]\n",
            "------------------------------------------------------------------------------\n"
          ],
          "name": "stdout"
        }
      ]
    },
    {
      "cell_type": "markdown",
      "metadata": {
        "id": "iMRnWGsqtZKi"
      },
      "source": [
        "選擇排序法"
      ]
    },
    {
      "cell_type": "code",
      "metadata": {
        "colab": {
          "base_uri": "https://localhost:8080/"
        },
        "id": "J_U0p5OZtd5Y",
        "outputId": "55b101c9-a4cc-4ca9-b204-d775bdace136"
      },
      "source": [
        "def Selction_Sort(datas):\n",
        "    for i in range(len(datas)-1):\n",
        "        max = i # \n",
        "        for j in range(i+1, len(datas)):  \n",
        "            if datas[j] > datas[max]:\n",
        "                max = j\n",
        "\n",
        "        datas[i], datas[max] = datas[max], datas[i]\n",
        "\n",
        "        print(\"第%d次排序\"%(i+1),datas)\n",
        "        print('----'*16)\n",
        "    return datas  \n",
        "\n",
        "if __name__ == '__main__':\n",
        "    import random\n",
        "    a =[]\n",
        "    for t in range(8):\n",
        "      a.append(random.randint(0,100))\n",
        "\n",
        "    random.shuffle(a)\n",
        "    print(\"原始數列:\",a)\n",
        "    print('---'*26)\n",
        "    a = Selction_Sort(a)"
      ],
      "execution_count": 29,
      "outputs": [
        {
          "output_type": "stream",
          "text": [
            "原始數列: [83, 98, 13, 94, 7, 56, 56, 78]\n",
            "------------------------------------------------------------------------------\n",
            "第1次排序 [98, 83, 13, 94, 7, 56, 56, 78]\n",
            "----------------------------------------------------------------\n",
            "第2次排序 [98, 94, 13, 83, 7, 56, 56, 78]\n",
            "----------------------------------------------------------------\n",
            "第3次排序 [98, 94, 83, 13, 7, 56, 56, 78]\n",
            "----------------------------------------------------------------\n",
            "第4次排序 [98, 94, 83, 78, 7, 56, 56, 13]\n",
            "----------------------------------------------------------------\n",
            "第5次排序 [98, 94, 83, 78, 56, 7, 56, 13]\n",
            "----------------------------------------------------------------\n",
            "第6次排序 [98, 94, 83, 78, 56, 56, 7, 13]\n",
            "----------------------------------------------------------------\n",
            "第7次排序 [98, 94, 83, 78, 56, 56, 13, 7]\n",
            "----------------------------------------------------------------\n"
          ],
          "name": "stdout"
        }
      ]
    }
  ]
}