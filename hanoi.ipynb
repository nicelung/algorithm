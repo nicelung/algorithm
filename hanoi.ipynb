{
  "nbformat": 4,
  "nbformat_minor": 0,
  "metadata": {
    "colab": {
      "name": "hanoi.ipynb",
      "provenance": [],
      "authorship_tag": "ABX9TyOGrDJW+BgF3GogHNncW4qa",
      "include_colab_link": true
    },
    "kernelspec": {
      "name": "python3",
      "display_name": "Python 3"
    }
  },
  "cells": [
    {
      "cell_type": "markdown",
      "metadata": {
        "id": "view-in-github",
        "colab_type": "text"
      },
      "source": [
        "<a href=\"https://colab.research.google.com/github/nicelung/algorithm/blob/master/hanoi.ipynb\" target=\"_parent\"><img src=\"https://colab.research.google.com/assets/colab-badge.svg\" alt=\"Open In Colab\"/></a>"
      ]
    },
    {
      "cell_type": "markdown",
      "metadata": {
        "id": "9V8XZy2SEbsO"
      },
      "source": [
        "河內塔\n"
      ]
    },
    {
      "cell_type": "code",
      "metadata": {
        "id": "4ylD8_YR-X_Z",
        "outputId": "1e633179-f9c0-45e1-aea9-56c5e8f4afd2",
        "colab": {
          "base_uri": "https://localhost:8080/"
        }
      },
      "source": [
        "a = 0\n",
        "def hanoi(n, A, B, C):\n",
        "    global a\n",
        "    a += 1\n",
        "    if n == 1:\n",
        "        pass\n",
        "        print(str(n) + \"號圈：\" + A + \"→\" + C)\n",
        "    else:\n",
        "        hanoi(n-1, A, C, B)\n",
        "        print(str(n) + \"號圈：\" + A + \"→\" + C)\n",
        "        hanoi(n-1, B, A, C)\n",
        "\n",
        "ringNum = int(input('請輸入圈數:'))\n",
        "hanoi(ringNum, \"A\", \"B\", \"C\")\n",
        "print('總共步數:',a)\n"
      ],
      "execution_count": 2,
      "outputs": [
        {
          "output_type": "stream",
          "text": [
            "請輸入圈數:3\n",
            "1號圈：A→C\n",
            "2號圈：A→B\n",
            "1號圈：C→B\n",
            "3號圈：A→C\n",
            "1號圈：B→A\n",
            "2號圈：B→C\n",
            "1號圈：A→C\n",
            "總共步數: 7\n"
          ],
          "name": "stdout"
        }
      ]
    }
  ]
}