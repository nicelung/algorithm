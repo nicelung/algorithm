{
  "nbformat": 4,
  "nbformat_minor": 0,
  "metadata": {
    "colab": {
      "name": "binarySearch.ipynb",
      "provenance": [],
      "authorship_tag": "ABX9TyM0J14aZA2/Oqt9gMmFKhRf",
      "include_colab_link": true
    },
    "kernelspec": {
      "name": "python3",
      "display_name": "Python 3"
    }
  },
  "cells": [
    {
      "cell_type": "markdown",
      "metadata": {
        "id": "view-in-github",
        "colab_type": "text"
      },
      "source": [
        "<a href=\"https://colab.research.google.com/github/nicelung/algorithm/blob/master/binarySearch.ipynb\" target=\"_parent\"><img src=\"https://colab.research.google.com/assets/colab-badge.svg\" alt=\"Open In Colab\"/></a>"
      ]
    },
    {
      "cell_type": "code",
      "metadata": {
        "id": "ffFXHlV6yPcS",
        "outputId": "fbf9f6f6-503c-4f0d-c3cb-6136b5b74ce6",
        "colab": {
          "base_uri": "https://localhost:8080/",
          "height": 34
        }
      },
      "source": [
        "def binarySearch(arr,l,r,x):\n",
        "  if r >= l:\n",
        "    mid = l + (r - 1)//2\n",
        "    if arr[mid]==x:\n",
        "      return mid\n",
        "    elif arr[mid]>x:\n",
        "      return binarySearch(arr,l,mid-1,x)\n",
        "    else:\n",
        "      return binarySearch(arr,mid+1,r,x)\n",
        "  else:\n",
        "    return-1\n",
        "arr =[5,8,9,15,30]\n",
        "x =15\n",
        "\n",
        "result = binarySearch(arr,0,len(arr)-1,x)\n",
        "\n",
        "if result != -1:\n",
        "  print(\"元素在索引%d\"%result)\n",
        "else:\n",
        "  print(\"陣列中找不到該元素\")"
      ],
      "execution_count": 8,
      "outputs": [
        {
          "output_type": "stream",
          "text": [
            "元素在索引3\n"
          ],
          "name": "stdout"
        }
      ]
    }
  ]
}