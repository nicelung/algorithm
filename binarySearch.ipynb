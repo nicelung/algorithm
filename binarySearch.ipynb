{
  "nbformat": 4,
  "nbformat_minor": 0,
  "metadata": {
    "colab": {
      "name": "binarySearch.ipynb",
      "provenance": [],
      "authorship_tag": "ABX9TyNnvedTJjd/GsrGEAlwXFdM",
      "include_colab_link": true
    },
    "kernelspec": {
      "name": "python3",
      "display_name": "Python 3"
    }
  },
  "cells": [
    {
      "cell_type": "markdown",
      "metadata": {
        "id": "view-in-github",
        "colab_type": "text"
      },
      "source": [
        "<a href=\"https://colab.research.google.com/github/nicelung/algorithm/blob/master/binarySearch.ipynb\" target=\"_parent\"><img src=\"https://colab.research.google.com/assets/colab-badge.svg\" alt=\"Open In Colab\"/></a>"
      ]
    },
    {
      "cell_type": "code",
      "metadata": {
        "id": "ffFXHlV6yPcS",
        "outputId": "fbf9f6f6-503c-4f0d-c3cb-6136b5b74ce6",
        "colab": {
          "base_uri": "https://localhost:8080/",
          "height": 34
        }
      },
      "source": [
        "def binarySearch(arr,l,r,x):\n",
        "  if r >= l:\n",
        "    mid = l + (r - 1)//2\n",
        "    if arr[mid]==x:\n",
        "      return mid\n",
        "    elif arr[mid]>x:\n",
        "      return binarySearch(arr,l,mid-1,x)\n",
        "    else:\n",
        "      return binarySearch(arr,mid+1,r,x)\n",
        "  else:\n",
        "    return-1\n",
        "arr =[5,8,9,15,30]\n",
        "x =15\n",
        "\n",
        "result = binarySearch(arr,0,len(arr)-1,x)\n",
        "\n",
        "if result != -1:\n",
        "  print(\"元素在索引%d\"%result)\n",
        "else:\n",
        "  print(\"陣列中找不到該元素\")"
      ],
      "execution_count": 8,
      "outputs": [
        {
          "output_type": "stream",
          "text": [
            "元素在索引3\n"
          ],
          "name": "stdout"
        }
      ]
    },
    {
      "cell_type": "code",
      "metadata": {
        "id": "LPNIYn7u_cES",
        "outputId": "100d3242-db8f-4484-d18f-099e01227565",
        "colab": {
          "base_uri": "https://localhost:8080/",
          "height": 185
        }
      },
      "source": [
        "def binarySearch(arr,l,r,x):\n",
        "  if r >= l:\n",
        "    mid = l + (r - 1)//2\n",
        "    if arr[mid]==x:\n",
        "      return mid\n",
        "    elif arr[mid]>x:\n",
        "      return binarySearch(arr,l,mid-1,x)\n",
        "    else:\n",
        "      return binarySearch(arr,mid+1,r,x)\n",
        "  else:\n",
        "    return-1\n",
        "\n",
        "def Bubble_Sort(datas):\n",
        "    for i in range(1, len(datas)): # \n",
        "        for j in range(len(datas)-i):   # \n",
        "            if datas[j] > datas[j+1]:   # \n",
        "                datas[j], datas[j+1] = datas[j+1], datas[j]\n",
        "    return datas\n",
        "\n",
        "\n",
        "if __name__ == '__main__':\n",
        "  import random\n",
        "  num = int(6)                #固定只能輸入6個數字\n",
        "  arr = []                   #用來存取輸入的串列\n",
        "  for i in range(0, num):          #確認數字在範圍內\n",
        "    score = int(input(\"請輸入號碼：\"))   #將輸入的數字指派給score\n",
        "    arr += [score]              #將score的數加入到串列\n",
        "\n",
        "  print(arr)\n",
        "  \n",
        "  arr = Bubble_Sort(arr)\n",
        "  print(arr)\n",
        "  x = int(input(\"請輸入找尋的號碼：\"))\n",
        "  result = binarySearch(arr,0,len(arr)-1,x)\n",
        "\n",
        "  if result != -1:\n",
        "    print(\"元素在索引%d\"%result)\n",
        "  else:\n",
        "    print(\"陣列中找不到該元素\")"
      ],
      "execution_count": 17,
      "outputs": [
        {
          "output_type": "stream",
          "text": [
            "請輸入號碼：2\n",
            "請輸入號碼：1\n",
            "請輸入號碼：4\n",
            "請輸入號碼：3\n",
            "請輸入號碼：5\n",
            "請輸入號碼：6\n",
            "[4, 2, 3, 6, 5, 1]\n",
            "[1, 2, 3, 4, 5, 6]\n",
            "請輸入找尋的號碼：2\n",
            "元素在索引1\n"
          ],
          "name": "stdout"
        }
      ]
    }
  ]
}