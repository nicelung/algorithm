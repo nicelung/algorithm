{
  "nbformat": 4,
  "nbformat_minor": 0,
  "metadata": {
    "colab": {
      "name": "SequentialSearch.ipynb",
      "provenance": [],
      "authorship_tag": "ABX9TyPaXhM2SPSJZQHiXq0sp8cA",
      "include_colab_link": true
    },
    "kernelspec": {
      "name": "python3",
      "display_name": "Python 3"
    }
  },
  "cells": [
    {
      "cell_type": "markdown",
      "metadata": {
        "id": "view-in-github",
        "colab_type": "text"
      },
      "source": [
        "<a href=\"https://colab.research.google.com/github/nicelung/algorithm/blob/master/SequentialSearch.ipynb\" target=\"_parent\"><img src=\"https://colab.research.google.com/assets/colab-badge.svg\" alt=\"Open In Colab\"/></a>"
      ]
    },
    {
      "cell_type": "code",
      "metadata": {
        "id": "6OPzeAJrw09i",
        "outputId": "e326d77f-188f-45df-a7ff-3783dd2e4fec",
        "colab": {
          "base_uri": "https://localhost:8080/",
          "height": 34
        }
      },
      "source": [
        "data=[20,31,50,17,16,36,19,8]\n",
        "\n",
        "def sequentital_search(data,key):\n",
        "  for i in data:\n",
        "    if i == key:\n",
        "      print(\"找到啦\")\n",
        "      break\n",
        "  else:\n",
        "    print(\"找不到\")\n",
        "    \n",
        "    \n",
        "  \n",
        "sequentital_search(data,50)"
      ],
      "execution_count": 21,
      "outputs": [
        {
          "output_type": "stream",
          "text": [
            "找到啦\n"
          ],
          "name": "stdout"
        }
      ]
    }
  ]
}