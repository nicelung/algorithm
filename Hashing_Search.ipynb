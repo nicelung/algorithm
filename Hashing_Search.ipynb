{
  "nbformat": 4,
  "nbformat_minor": 0,
  "metadata": {
    "colab": {
      "name": "Hashing Search.ipynb",
      "provenance": [],
      "authorship_tag": "ABX9TyM1sbXddVi0zJj2nCwDOxgW",
      "include_colab_link": true
    },
    "kernelspec": {
      "name": "python3",
      "display_name": "Python 3"
    }
  },
  "cells": [
    {
      "cell_type": "markdown",
      "metadata": {
        "id": "view-in-github",
        "colab_type": "text"
      },
      "source": [
        "<a href=\"https://colab.research.google.com/github/nicelung/algorithm/blob/master/Hashing_Search.ipynb\" target=\"_parent\"><img src=\"https://colab.research.google.com/assets/colab-badge.svg\" alt=\"Open In Colab\"/></a>"
      ]
    },
    {
      "cell_type": "markdown",
      "metadata": {
        "id": "5MHfBkmUEiA7"
      },
      "source": [
        "線性"
      ]
    },
    {
      "cell_type": "code",
      "metadata": {
        "id": "KEpUkTeMvKN1",
        "outputId": "c8a19b77-aeb0-4d44-f3a8-25b2b8cd80a2",
        "colab": {
          "base_uri": "https://localhost:8080/",
          "height": 218
        }
      },
      "source": [
        "import random\n",
        "\n",
        "INDEXBOX=10\n",
        "MAXNUM=7\n",
        "\n",
        "def print_data(data,max_number):\n",
        "  print('\\t',end='')\n",
        "  for i in range(max_number):\n",
        "    print('[%2d]'%data[i],end='')\n",
        "  print()\n",
        "\n",
        "def creat_table(num,index):\n",
        "  tmp=num%INDEXBOX\n",
        "  while True:\n",
        "    if index[tmp]==-1:\n",
        "      index[tmp]=num\n",
        "      break\n",
        "    else:\n",
        "      \n",
        "      tmp=(tmp+1)%INDEXBOX\n",
        "\n",
        "index=[None]*INDEXBOX\n",
        "data=[None]*MAXNUM\n",
        "\n",
        "print('原始陣列值:')\n",
        "for i in range(MAXNUM):\n",
        "  data[i]=random.randint(1,20)\n",
        "for i in range(INDEXBOX):\n",
        "  index[i]=-1\n",
        "print_data(data,MAXNUM)\n",
        "\n",
        "print('雜湊表內容:')\n",
        "for i in range(MAXNUM):\n",
        "  creat_table(data[i],index)\n",
        "  print(' %2d =>' %data[i],end='')\n",
        "  print_data(index,INDEXBOX)\n",
        "\n",
        "print('完成雜湊表:')\n",
        "print_data(index,INDEXBOX)"
      ],
      "execution_count": 2,
      "outputs": [
        {
          "output_type": "stream",
          "text": [
            "原始陣列值:\n",
            "\t[ 5][20][18][12][12][13][17]\n",
            "雜湊表內容:\n",
            "  5 =>\t[-1][-1][-1][-1][-1][ 5][-1][-1][-1][-1]\n",
            " 20 =>\t[20][-1][-1][-1][-1][ 5][-1][-1][-1][-1]\n",
            " 18 =>\t[20][-1][-1][-1][-1][ 5][-1][-1][18][-1]\n",
            " 12 =>\t[20][-1][12][-1][-1][ 5][-1][-1][18][-1]\n",
            " 12 =>\t[20][-1][12][12][-1][ 5][-1][-1][18][-1]\n",
            " 13 =>\t[20][-1][12][12][13][ 5][-1][-1][18][-1]\n",
            " 17 =>\t[20][-1][12][12][13][ 5][-1][17][18][-1]\n",
            "完成雜湊表:\n",
            "\t[20][-1][12][12][13][ 5][-1][17][18][-1]\n"
          ],
          "name": "stdout"
        }
      ]
    },
    {
      "cell_type": "markdown",
      "metadata": {
        "id": "X4qX0GElEm3Q"
      },
      "source": [
        "平方"
      ]
    },
    {
      "cell_type": "code",
      "metadata": {
        "id": "PKRbl-1FErMD",
        "outputId": "26d23de7-774c-4086-b8f1-2b0ca1d8ee25",
        "colab": {
          "base_uri": "https://localhost:8080/",
          "height": 218
        }
      },
      "source": [
        "import random\n",
        "import math\n",
        "\n",
        "INDEXBOX=10\n",
        "MAXNUM=7\n",
        "\n",
        "def print_data(data,max_number):\n",
        "  print('\\t',end='')\n",
        "  for i in range(max_number):\n",
        "    print('[%2d]'%data[i],end='')\n",
        "  print()\n",
        "\n",
        "def creat_table(num,index):\n",
        "  tmp=num%INDEXBOX\n",
        "  x =1\n",
        "  while True:\n",
        "    if index[tmp]==-1:\n",
        "      index[tmp]=num\n",
        "      break\n",
        "    else:\n",
        "      tmp=num%INDEXBOX\n",
        "      tmp=(tmp+int(math.pow(x,2)))%INDEXBOX  #平方的方式\n",
        "      x+=1\n",
        "\n",
        "index=[None]*INDEXBOX\n",
        "data=[None]*MAXNUM\n",
        "\n",
        "print('原始陣列值:')\n",
        "for i in range(MAXNUM):\n",
        "  data[i]=random.randint(1,20)\n",
        "for i in range(INDEXBOX):\n",
        "  index[i]=-1\n",
        "print_data(data,MAXNUM)\n",
        "\n",
        "print('雜湊表內容:')\n",
        "for i in range(MAXNUM):\n",
        "  creat_table(data[i],index)\n",
        "  print(' %2d =>' %data[i],end='')\n",
        "  print_data(index,INDEXBOX)\n",
        "\n",
        "print('完成雜湊表:')\n",
        "print_data(index,INDEXBOX)"
      ],
      "execution_count": 11,
      "outputs": [
        {
          "output_type": "stream",
          "text": [
            "原始陣列值:\n",
            "\t[13][18][ 8][ 2][12][12][20]\n",
            "雜湊表內容:\n",
            " 13 =>\t[-1][-1][-1][13][-1][-1][-1][-1][-1][-1]\n",
            " 18 =>\t[-1][-1][-1][13][-1][-1][-1][-1][18][-1]\n",
            "  8 =>\t[-1][-1][-1][13][-1][-1][-1][-1][18][ 8]\n",
            "  2 =>\t[-1][-1][ 2][13][-1][-1][-1][-1][18][ 8]\n",
            " 12 =>\t[-1][-1][ 2][13][-1][-1][12][-1][18][ 8]\n",
            " 12 =>\t[-1][12][ 2][13][-1][-1][12][-1][18][ 8]\n",
            " 20 =>\t[20][12][ 2][13][-1][-1][12][-1][18][ 8]\n",
            "完成雜湊表:\n",
            "\t[20][12][ 2][13][-1][-1][12][-1][18][ 8]\n"
          ],
          "name": "stdout"
        }
      ]
    },
    {
      "cell_type": "markdown",
      "metadata": {
        "id": "Gf6muuMBEqXP"
      },
      "source": [
        "再雜湊"
      ]
    },
    {
      "cell_type": "code",
      "metadata": {
        "id": "DIBoT3u7Eq1P",
        "outputId": "1dfac0ba-5e0a-452a-db8f-58980da97785",
        "colab": {
          "base_uri": "https://localhost:8080/",
          "height": 218
        }
      },
      "source": [
        "import random\n",
        "\n",
        "INDEXBOX=10\n",
        "MAXNUM=7\n",
        "\n",
        "def print_data(data,max_number):\n",
        "  print('\\t',end='')\n",
        "  for i in range(max_number):\n",
        "    print('[%2d]'%data[i],end='')\n",
        "  print()\n",
        "\n",
        "def creat_table(num,index):\n",
        "  tmp=num%INDEXBOX\n",
        "  x=2\n",
        "  while True:\n",
        "    if index[tmp]==-1:\n",
        "      index[tmp]=num\n",
        "      break\n",
        "    else:\n",
        "      tmp=(num+x)%INDEXBOX  \n",
        "      x+=2\n",
        "\n",
        "index=[None]*INDEXBOX\n",
        "data=[None]*MAXNUM\n",
        "\n",
        "print('原始陣列值:')\n",
        "for i in range(MAXNUM):\n",
        "  data[i]=random.randint(1,20)\n",
        "for i in range(INDEXBOX):\n",
        "  index[i]=-1\n",
        "print_data(data,MAXNUM)\n",
        "\n",
        "print('雜湊表內容:')\n",
        "for i in range(MAXNUM):\n",
        "  creat_table(data[i],index)\n",
        "  print(' %2d =>' %data[i],end='')\n",
        "  print_data(index,INDEXBOX)\n",
        "\n",
        "print('完成雜湊表:')\n",
        "print_data(index,INDEXBOX)"
      ],
      "execution_count": 15,
      "outputs": [
        {
          "output_type": "stream",
          "text": [
            "原始陣列值:\n",
            "\t[ 8][ 2][12][13][20][16][ 7]\n",
            "雜湊表內容:\n",
            "  8 =>\t[-1][-1][-1][-1][-1][-1][-1][-1][ 8][-1]\n",
            "  2 =>\t[-1][-1][ 2][-1][-1][-1][-1][-1][ 8][-1]\n",
            " 12 =>\t[-1][-1][ 2][-1][12][-1][-1][-1][ 8][-1]\n",
            " 13 =>\t[-1][-1][ 2][13][12][-1][-1][-1][ 8][-1]\n",
            " 20 =>\t[20][-1][ 2][13][12][-1][-1][-1][ 8][-1]\n",
            " 16 =>\t[20][-1][ 2][13][12][-1][16][-1][ 8][-1]\n",
            "  7 =>\t[20][-1][ 2][13][12][-1][16][ 7][ 8][-1]\n",
            "完成雜湊表:\n",
            "\t[20][-1][ 2][13][12][-1][16][ 7][ 8][-1]\n"
          ],
          "name": "stdout"
        }
      ]
    }
  ]
}