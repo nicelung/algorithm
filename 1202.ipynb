{
  "nbformat": 4,
  "nbformat_minor": 0,
  "metadata": {
    "colab": {
      "name": "1202.ipynb",
      "provenance": [],
      "authorship_tag": "ABX9TyPNUkZUjfH2hWUq7nQRZY2D",
      "include_colab_link": true
    },
    "kernelspec": {
      "name": "python3",
      "display_name": "Python 3"
    }
  },
  "cells": [
    {
      "cell_type": "markdown",
      "metadata": {
        "id": "view-in-github",
        "colab_type": "text"
      },
      "source": [
        "<a href=\"https://colab.research.google.com/github/nicelung/algorithm/blob/master/1202.ipynb\" target=\"_parent\"><img src=\"https://colab.research.google.com/assets/colab-badge.svg\" alt=\"Open In Colab\"/></a>"
      ]
    },
    {
      "cell_type": "code",
      "metadata": {
        "colab": {
          "base_uri": "https://localhost:8080/"
        },
        "id": "4jyR85_jIytR",
        "outputId": "a4ddbd59-ea73-4335-d6c3-acc5cf6b3afe"
      },
      "source": [
        "t =[25,20,5,1]\n",
        "sum=int(input(\"輸入:\"))\n",
        "\n",
        "def change(t,n):\n",
        "  m = [0 for _ in range(len(t))]\n",
        "  for i ,money in enumerate(t):\n",
        "    m[i] = n//money\n",
        "    n = n%money\n",
        "    print(m,n)\n",
        "change(t,sum)"
      ],
      "execution_count": 23,
      "outputs": [
        {
          "output_type": "stream",
          "text": [
            "輸入:25\n",
            "[1, 0, 0, 0] 0\n",
            "[1, 0, 0, 0] 0\n",
            "[1, 0, 0, 0] 0\n",
            "[1, 0, 0, 0] 0\n"
          ],
          "name": "stdout"
        }
      ]
    }
  ]
}