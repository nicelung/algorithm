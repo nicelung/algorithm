{
  "nbformat": 4,
  "nbformat_minor": 0,
  "metadata": {
    "colab": {
      "name": "12.30.ipynb",
      "provenance": [],
      "authorship_tag": "ABX9TyNounJhHG3SdzBmRTIRoLgP",
      "include_colab_link": true
    },
    "kernelspec": {
      "name": "python3",
      "display_name": "Python 3"
    }
  },
  "cells": [
    {
      "cell_type": "markdown",
      "metadata": {
        "id": "view-in-github",
        "colab_type": "text"
      },
      "source": [
        "<a href=\"https://colab.research.google.com/github/nicelung/algorithm/blob/master/12_30.ipynb\" target=\"_parent\"><img src=\"https://colab.research.google.com/assets/colab-badge.svg\" alt=\"Open In Colab\"/></a>"
      ]
    },
    {
      "cell_type": "code",
      "metadata": {
        "colab": {
          "base_uri": "https://localhost:8080/"
        },
        "id": "TpH8G5w8fLpS",
        "outputId": "1b074bee-6c9a-4903-857c-4a16eda15858"
      },
      "source": [
        "import collections\r\n",
        "\r\n",
        "visited = set() # Set to keep track of visited nodes.\r\n",
        "\r\n",
        "def dfs(visited, graph, node):\r\n",
        "    if node not in visited:\r\n",
        "        print(node + \" -> \", end=\"\")\r\n",
        "        visited.add(node)\r\n",
        "        for neighbour in graph[node]:\r\n",
        "            dfs(visited, graph, neighbour)\r\n",
        "\r\n",
        "def bfs(graph, root):\r\n",
        "\r\n",
        "    visited, queue = set(), collections.deque([root])\r\n",
        "    visited.add(root)\r\n",
        "\r\n",
        "    while queue:\r\n",
        "\r\n",
        "        # Dequeue a vertex from queue\r\n",
        "        vertex = queue.popleft()\r\n",
        "        print(str(vertex) + \" -> \", end=\"\")\r\n",
        "\r\n",
        "        # If not visited, mark it as visited, and\r\n",
        "        # enqueue it\r\n",
        "        for neighbour in graph[vertex]:\r\n",
        "            if neighbour not in visited:\r\n",
        "                visited.add(neighbour)\r\n",
        "                queue.append(neighbour)\r\n",
        "\r\n",
        "\r\n",
        "if __name__ == '__main__':\r\n",
        "    graph = {'A': ['B', 'D'], 'B': ['C','E'], 'C': [], 'D': ['B'], 'E': ['C', 'D']}\r\n",
        "    print(\"BFS: \")\r\n",
        "    bfs(graph, 'A')\r\n",
        "    print()\r\n",
        "    print(\"DFS:\")\r\n",
        "    dfs(visited,graph, 'A')"
      ],
      "execution_count": 16,
      "outputs": [
        {
          "output_type": "stream",
          "text": [
            "BFS: \n",
            "A -> B -> D -> C -> E -> \n",
            "DFS:\n",
            "A -> B -> C -> E -> D -> "
          ],
          "name": "stdout"
        }
      ]
    }
  ]
}