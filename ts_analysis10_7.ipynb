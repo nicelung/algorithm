{
  "nbformat": 4,
  "nbformat_minor": 0,
  "metadata": {
    "colab": {
      "name": "ts_analysis10/7.ipynb",
      "provenance": [],
      "authorship_tag": "ABX9TyMHCJJJLSqEymSpDpqsfr82",
      "include_colab_link": true
    },
    "kernelspec": {
      "name": "python3",
      "display_name": "Python 3"
    }
  },
  "cells": [
    {
      "cell_type": "markdown",
      "metadata": {
        "id": "view-in-github",
        "colab_type": "text"
      },
      "source": [
        "<a href=\"https://colab.research.google.com/github/nicelung/algorithm/blob/master/ts_analysis10_7.ipynb\" target=\"_parent\"><img src=\"https://colab.research.google.com/assets/colab-badge.svg\" alt=\"Open In Colab\"/></a>"
      ]
    },
    {
      "cell_type": "code",
      "metadata": {
        "id": "l-AWLGTu4ynC",
        "outputId": "3c5f08a9-630e-4304-9eec-b5314ddb1a9a",
        "colab": {
          "base_uri": "https://localhost:8080/"
        }
      },
      "source": [
        "#判斷數字是否為基數或偶數\n",
        "#時間換空間\n",
        "print(\"輸入0可以結束喔\");\n",
        "while(True):\n",
        "    num=int(input(\"請輸入號碼：\"));\n",
        "    if (num == 0):\n",
        "        print(\"掰2啦\")\n",
        "        break;\n",
        "    elif(num%2==0):\n",
        "      print(\"數字\",num,\"為偶數\");\n",
        "      print(\"   \");\n",
        "    else:\n",
        "        print(\"數字\",num,\"為奇數\");\n",
        "        print(\"   \");\n",
        "\n",
        "\n"
      ],
      "execution_count": 13,
      "outputs": [
        {
          "output_type": "stream",
          "text": [
            "輸入0可以結束喔\n",
            "請輸入號碼：1\n",
            "數字 1 為奇數\n",
            "   \n",
            "請輸入號碼：2\n",
            "數字 2 為偶數\n",
            "   \n",
            "請輸入號碼：3\n",
            "數字 3 為奇數\n",
            "   \n",
            "請輸入號碼：4\n",
            "數字 4 為偶數\n",
            "   \n",
            "請輸入號碼：5\n",
            "數字 5 為奇數\n",
            "   \n",
            "請輸入號碼：0\n",
            "掰啦\n"
          ],
          "name": "stdout"
        }
      ]
    },
    {
      "cell_type": "code",
      "metadata": {
        "id": "_DHLJfurBVI6"
      },
      "source": [
        "#空間換時間\n",
        "print(\"適用範圍:0~100\");\n",
        "print(\"結束請輸入888\");\n",
        "while(True):\n",
        "    a=[]\n",
        "    for i in range(2, 101, 2):\n",
        "        a +=[i]\n",
        "    \n",
        "    num=int(input(\"請輸入想查尋數字:\"));\n",
        "    if(num in a):\n",
        "        print(\"數字\",num,\"為偶數\");\n",
        "        print(\"  \");\n",
        "    elif(num == 0):\n",
        "        print(\"0不是奇數或偶數喔!!!!!!!!!!\");\n",
        "        print(\"\");\n",
        "    elif(num == 888):\n",
        "        print(\"掰\");\n",
        "        break;\n",
        "    else:\n",
        "        print(\"數字\",num,\"為奇數\");\n",
        "        print(\"  \");"
      ],
      "execution_count": null,
      "outputs": []
    }
  ]
}