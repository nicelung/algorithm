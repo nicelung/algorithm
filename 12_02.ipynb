{
  "nbformat": 4,
  "nbformat_minor": 0,
  "metadata": {
    "colab": {
      "name": "12.02.ipynb",
      "provenance": [],
      "authorship_tag": "ABX9TyMSBKsLGBchD4vTXHFM208a",
      "include_colab_link": true
    },
    "kernelspec": {
      "name": "python3",
      "display_name": "Python 3"
    }
  },
  "cells": [
    {
      "cell_type": "markdown",
      "metadata": {
        "id": "view-in-github",
        "colab_type": "text"
      },
      "source": [
        "<a href=\"https://colab.research.google.com/github/nicelung/algorithm/blob/master/12_02.ipynb\" target=\"_parent\"><img src=\"https://colab.research.google.com/assets/colab-badge.svg\" alt=\"Open In Colab\"/></a>"
      ]
    },
    {
      "cell_type": "markdown",
      "metadata": {
        "id": "_BepCXc1UJLp"
      },
      "source": [
        "貪婪找錢"
      ]
    },
    {
      "cell_type": "code",
      "metadata": {
        "colab": {
          "base_uri": "https://localhost:8080/"
        },
        "id": "3rx9h5cQUJmx",
        "outputId": "316e2ef4-1ac8-4027-a490-0697300dc926"
      },
      "source": [
        "t =[25,20,5,1]\n",
        "sum=int(input(\"輸入:\"))\n",
        "\n",
        "def change(t,n):\n",
        "  m = [0 for _ in range(len(t))]\n",
        "  for i ,money in enumerate(t):\n",
        "    m[i] = n//money\n",
        "    n = n%money\n",
        "    print(m,n)\n",
        "change(t,sum)"
      ],
      "execution_count": 19,
      "outputs": [
        {
          "output_type": "stream",
          "text": [
            "輸入:41\n",
            "[1, 0, 0, 0] 16\n",
            "[1, 0, 0, 0] 16\n",
            "[1, 0, 3, 0] 1\n",
            "[1, 0, 3, 1] 0\n"
          ],
          "name": "stdout"
        }
      ]
    },
    {
      "cell_type": "markdown",
      "metadata": {
        "id": "z9rizNF9UBHD"
      },
      "source": [
        "DP找錢"
      ]
    },
    {
      "cell_type": "code",
      "metadata": {
        "colab": {
          "base_uri": "https://localhost:8080/"
        },
        "id": "vKKKWi3pObqe",
        "outputId": "08cf8b71-32d7-4892-c0bb-10b8c837600b"
      },
      "source": [
        "\n",
        "def coinChange(self, coins, amount):\n",
        "  if amount == 0 :\n",
        "      return 0\n",
        "  if min(coins) > amount:\n",
        "      return -1\n",
        "  dp = [-1 for i in range(0, amount + 1)]\n",
        "  for i in coins:\n",
        "      if i > len(dp) - 1:\n",
        "        continue\n",
        "      dp[i] = 1\n",
        "      for j in range(i + 1, amount + 1):\n",
        "        if dp[j - i] == -1:\n",
        "            continue\n",
        "        elif dp[j] == -1:\n",
        "            dp[j] = dp[j - i] + 1\n",
        "        else:\n",
        "            dp[j] = min(dp[j], dp[j - i] + 1)\n",
        "      #print(dp)\n",
        "  return dp[amount]\n",
        "\n",
        "print(ob1.coinChange([1,5,20,25], 41))"
      ],
      "execution_count": 20,
      "outputs": [
        {
          "output_type": "stream",
          "text": [
            "3\n"
          ],
          "name": "stdout"
        }
      ]
    },
    {
      "cell_type": "markdown",
      "metadata": {
        "id": "SOl7Jg9jUVI4"
      },
      "source": [
        "貪婪小偷"
      ]
    },
    {
      "cell_type": "code",
      "metadata": {
        "colab": {
          "base_uri": "https://localhost:8080/"
        },
        "id": "k5JSypXvU2Ij",
        "outputId": "d8e3a5df-3bdf-46d6-e379-a925e6ad27bb"
      },
      "source": [
        "N=5\n",
        "weight=[5,1,4,3,2]\n",
        "name=[\"PS5\",\"IPad Pro\",\"Macbook pro15\",\"HoomPod\",\"Mac mini\"]\n",
        "price=[17000,35000,60000,9000,20000]\n",
        "backage=10\n",
        "\n",
        "def take(n,w,p,b,na):\n",
        "  sumW=0\n",
        "  sumP=0\n",
        "  all=[]\n",
        "  while True:\n",
        "    if (sumW + w[p.index(max(p))]<10):\n",
        "      sumW += w[p.index(max(p))]\n",
        "      sumP += max(p)\n",
        "      all.append(na[p.index(max(p))])\n",
        "      print(\"拿了:\",all)\n",
        "      removeprice = max(p)\n",
        "      removeweight = w[p.index(max(p))]\n",
        "      removename = na[p.index(max(p))]\n",
        "      p.remove(removeprice)\n",
        "      w.remove(removeweight)\n",
        "      na.remove(removename)\n",
        "    else:\n",
        "      break\n",
        "  return(sumW,sumP)\n",
        "\n",
        "print(take(N,weight,price,backage,name))"
      ],
      "execution_count": 42,
      "outputs": [
        {
          "output_type": "stream",
          "text": [
            "拿了: ['Macbook pro15']\n",
            "拿了: ['Macbook pro15', 'IPad Pro']\n",
            "拿了: ['Macbook pro15', 'IPad Pro', 'Mac mini']\n",
            "(7, 115000)\n"
          ],
          "name": "stdout"
        }
      ]
    },
    {
      "cell_type": "markdown",
      "metadata": {
        "id": "NAYcU_WHUy_j"
      },
      "source": [
        "DP小偷"
      ]
    },
    {
      "cell_type": "code",
      "metadata": {
        "colab": {
          "base_uri": "https://localhost:8080/"
        },
        "id": "Em7WfkjMhRDX",
        "outputId": "5abfc0e1-8f19-4e50-da2d-aa7fd7aef824"
      },
      "source": [
        "def knapSack_topdown(W, wt, val, n):\n",
        "    if n == 0 or W == 0 :\n",
        "        return 0\n",
        "\n",
        "    if (wt[n-1] > W):\n",
        "        return knapSack_topdown(W , wt , val , n-1)\n",
        "\n",
        "\n",
        "    else:\n",
        "        return max(val[n-1] + knapSack_topdown(W-wt[n-1] , wt , val , n-1), \n",
        "            knapSack_topdown(W , wt , val , n-1))\n",
        "\n",
        "\n",
        "if __name__ == '__main__':\n",
        "    name=[\"PS5\",\"IPad Pro\",\"Macbook pro15\",\"HoomPod\",\"Mac mini\"]\n",
        "    val = [17000,35000,60000,9000,20000]\n",
        "    wt = [5,1,4,3,2]\n",
        "    W = 10\n",
        "    n = len(val)\n",
        "    print(knapSack_topdown(W , wt , val , n))"
      ],
      "execution_count": 57,
      "outputs": [
        {
          "output_type": "stream",
          "text": [
            "124000\n"
          ],
          "name": "stdout"
        }
      ]
    }
  ]
}